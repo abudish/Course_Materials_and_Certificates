{
 "cells": [
  {
   "cell_type": "markdown",
   "metadata": {},
   "source": [
    "Ссылка на практикум:\n",
    "https://stepik.org/lesson/%D0%A0%D0%B5%D1%88%D0%B5%D0%BD%D0%B8%D0%B5-%D1%81%D0%B8%D1%81%D1%82%D0%B5%D0%BC-%D0%BB%D0%B8%D0%BD%D0%B5%D0%B9%D0%BD%D1%8B%D1%85-%D1%83%D1%80%D0%B0%D0%B2%D0%BD%D0%B5%D0%BD%D0%B8%D0%B9-%D0%B2-Python-%D0%9F%D0%A0%D0%90%D0%9A%D0%A2%D0%98%D0%9A%D0%A3%D0%9C-31653/step/1"
   ]
  },
  {
   "cell_type": "markdown",
   "metadata": {},
   "source": [
    "# Задача 1.1 - система 2 линейных уравнений"
   ]
  },
  {
   "cell_type": "markdown",
   "metadata": {},
   "source": [
    "Напишите программу, которая будет решать систему линейных уравнений вида:\n",
    "$$\n",
    "\\left\\{\\begin{matrix} a_{11}x+a_{12}y=b_{1}&(1) \\\\  a_{21}x+a_{22}y=b_{2} &(2) \\end{matrix}\\right.\n",
    "$$\n",
    "На вход программа должна принимать 2 строки (используйте стандартную функцию input() Python 3).\n",
    "\n",
    "Каждая строка содержит 3 действительных числа через пробел:\n",
    "\n",
    "ai1,ai2,bi,ai1,ai2,bi, \n",
    "\n",
    "где i - номер строки\n",
    "\n",
    "На выходе программа должна выдавать значения x и y в одну строку через пробел.\n",
    "\n",
    "\n",
    "\n",
    "**Примечание 1.** В для разделения строки на отдельные элементы используйте функцию split()\n",
    "\n",
    "**Примечание 2.** В качестве разделителя между целой и дробной частью используйте точку, например 0.2\n",
    "\n",
    "---\n",
    "**Sample Input 1:**  \n",
    "2 5 1  \n",
    "1 -10 3\n",
    "\n",
    "---\n",
    "**Sample Output 1:**  \n",
    "1.0 -0.2\n",
    "\n",
    "---\n",
    "\n",
    "**Sample Input 2:**  \n",
    "1 0 1  \n",
    "0 1 -1\n",
    "\n",
    "---\n",
    "**Sample Output 2:**  \n",
    "1.0 -1.0"
   ]
  },
  {
   "cell_type": "code",
   "execution_count": 34,
   "metadata": {
    "collapsed": false
   },
   "outputs": [
    {
     "name": "stdout",
     "output_type": "stream",
     "text": [
      "2 5 1\n",
      "1 -10 3\n",
      "1.0 -0.2\n"
     ]
    }
   ],
   "source": [
    "import numpy\n",
    "# в 3м питоне надо использовать input() вместо raw_input()\n",
    "a11, a12, b1 = list(map(float, raw_input().split())) \n",
    "a21, a22, b2 = list(map(float,raw_input().split()))\n",
    "\n",
    "M1 = numpy.array([[a11, a12], [a21, a22]]) # Матрица (левая часть системы)\n",
    "v1 = numpy.array([b1, b2]) # Вектор (правая часть системы)\n",
    "r = numpy.linalg.solve(M1, v1) #Находим решение системы\n",
    "print r[0], r[1]"
   ]
  },
  {
   "cell_type": "markdown",
   "metadata": {},
   "source": [
    "# Задача 1.2 - система 2 линейных уравнений"
   ]
  },
  {
   "cell_type": "markdown",
   "metadata": {},
   "source": [
    "Напишите программу, которая будет решать систему линейных уравнений вида:\n",
    "$$\n",
    "\\left\\{\\begin{matrix} a_{11}x+a_{12}y=b_{1}&(1) \\\\  a_{21}x+a_{22}y=b_{2} &(2) \\end{matrix}\\right.\n",
    "$$  \n",
    "В отличие от задачи 1.1 здесь есть системы, не имеющие решений, например:\n",
    "$$\n",
    "\\left\\{\\begin{matrix} x+y=1&(3) \\\\  2x+2y=5 &(4) \\end{matrix}\\right.\n",
    "$$  \n",
    "\n",
    "Как мы знаем из лекций, система не имеет решения, если определитель матрицы коэффициентов равен 0:\n",
    "$$\n",
    "\\Delta = \\begin{pmatrix} 1 & 1 \\\\  2 & 2 \\end{pmatrix} = 0\n",
    "$$  \n",
    "Для нахождения определителя используйте функцию numpy.linalg.det.\n",
    "\n",
    "На вход программа должна принимать 2 строки, каждая строка содержит 3 действительных числа через пробел:  \n",
    "$$\n",
    "a_{i1}, a_{i2}, b_{i},\n",
    "$$  \n",
    "где i - номер строки\n",
    "\n",
    "На выходе программа должна выдавать:\n",
    "\n",
    "- значения x и y в одну строку через пробел, если система имеет решение\n",
    "- строку \"Система не имеет решений\", если определитель матрицы равен 0.\n",
    "\n",
    "\n",
    "---\n",
    "**Sample Input 1:**  \n",
    "2 5 1  \n",
    "1 -10 3\n",
    "\n",
    "---\n",
    "**Sample Output 1:**  \n",
    "1.0 -0.2\n",
    "\n",
    "---\n",
    "\n",
    "**Sample Input 2:**  \n",
    "1 1 1  \n",
    "2 2 5\n",
    "\n",
    "---\n",
    "**Sample Output 2:**  \n",
    "Система не имеет решений"
   ]
  },
  {
   "cell_type": "code",
   "execution_count": 37,
   "metadata": {
    "collapsed": false
   },
   "outputs": [
    {
     "name": "stdout",
     "output_type": "stream",
     "text": [
      "2 5 1\n",
      "1 -10 3\n",
      "1.0 -0.2\n"
     ]
    }
   ],
   "source": [
    "import numpy\n",
    "# в 3м питоне надо использовать input() вместо raw_input()\n",
    "a11, a12, b1 = list(map(float, raw_input().split())) \n",
    "a21, a22, b2 = list(map(float,raw_input().split()))\n",
    "\n",
    "\n",
    "M1 = numpy.array([[a11, a12], [a21, a22]]) # Матрица (левая часть системы)\n",
    "v1 = numpy.array([b1, b2]) # Вектор (правая часть системы)\n",
    "if numpy.linalg.det(M1) == 0:\n",
    "    print 'Система не имеет решений'\n",
    "else:\n",
    "    r = numpy.linalg.solve(M1, v1) #Находим решение системы\n",
    "    print r[0], r[1]"
   ]
  }
 ],
 "metadata": {
  "kernelspec": {
   "display_name": "Python 2",
   "language": "python",
   "name": "python2"
  },
  "language_info": {
   "codemirror_mode": {
    "name": "ipython",
    "version": 2
   },
   "file_extension": ".py",
   "mimetype": "text/x-python",
   "name": "python",
   "nbconvert_exporter": "python",
   "pygments_lexer": "ipython2",
   "version": "2.7.13"
  }
 },
 "nbformat": 4,
 "nbformat_minor": 2
}
