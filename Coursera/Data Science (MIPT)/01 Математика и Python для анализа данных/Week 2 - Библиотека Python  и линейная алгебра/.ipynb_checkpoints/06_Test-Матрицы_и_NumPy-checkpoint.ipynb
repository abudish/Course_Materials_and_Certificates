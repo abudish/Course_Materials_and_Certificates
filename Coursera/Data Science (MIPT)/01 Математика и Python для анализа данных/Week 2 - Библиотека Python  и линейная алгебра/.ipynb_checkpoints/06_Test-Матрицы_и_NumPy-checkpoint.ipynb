{
 "cells": [
  {
   "cell_type": "markdown",
   "metadata": {},
   "source": [
    "#### 1. Выберите матрицу, которая подойдет для описания левой части системы из двух уравнений с неизвестными x и z:\n",
    "$$\n",
    "\\left\\{\n",
    "\\begin{aligned}\n",
    "3x &+ 5z = 1, \\\\\n",
    "x &- z = 2. \n",
    "\\end{aligned}\n",
    "\\right.\n",
    "$$\n",
    " "
   ]
  },
  {
   "cell_type": "markdown",
   "metadata": {},
   "source": [
    "Answer:\n",
    "\\begin{pmatrix} 3 & 5 \\\\ 1 & -1 \\end{pmatrix}"
   ]
  },
  {
   "cell_type": "markdown",
   "metadata": {},
   "source": [
    "#### 2. Чему равен ранг следующей матрицы?\n",
    "\\begin{pmatrix} 1 & 1 & 2 \\\\ 0 & 1 & 2\\end{pmatrix}"
   ]
  },
  {
   "cell_type": "code",
   "execution_count": 7,
   "metadata": {
    "collapsed": true
   },
   "outputs": [],
   "source": [
    "import numpy as np"
   ]
  },
  {
   "cell_type": "code",
   "execution_count": 6,
   "metadata": {
    "collapsed": false
   },
   "outputs": [
    {
     "name": "stdout",
     "output_type": "stream",
     "text": [
      "Матрица:\n",
      "[[1 1 2]\n",
      " [0 1 2]]\n",
      "Ранг матрицы:\n",
      "2\n"
     ]
    }
   ],
   "source": [
    "a = np.array([[1, 1, 2], [0, 1, 2]])\n",
    "print 'Матрица:\\n', a\n",
    "print 'Ранг матрицы:\\n', np.linalg.matrix_rank(a)"
   ]
  },
  {
   "cell_type": "markdown",
   "metadata": {},
   "source": [
    "#### 3. Сколько решений может иметь система линейных уравнений?"
   ]
  },
  {
   "cell_type": "markdown",
   "metadata": {},
   "source": [
    "**Ни одного**\n",
    "\n",
    "**Одно**\n",
    "\n",
    "Больше одного, но конечное число\n",
    "\n",
    "**Бесконечное число**"
   ]
  },
  {
   "cell_type": "markdown",
   "metadata": {},
   "source": [
    "#### 4. К каким классам относится следующая матрица?\n",
    "\\begin{pmatrix} 1 & 1 \\\\ 1 & 2 \\end{pmatrix}"
   ]
  },
  {
   "cell_type": "code",
   "execution_count": 35,
   "metadata": {
    "collapsed": false
   },
   "outputs": [
    {
     "name": "stdout",
     "output_type": "stream",
     "text": [
      "Матрица A:\n",
      "[[1 1]\n",
      " [1 2]]\n",
      "\n",
      "Транспонированная матрица A:\n",
      "[[1 1]\n",
      " [1 2]] \n",
      "\n",
      "A * A.T:\n",
      "[[2 3]\n",
      " [3 5]] \n",
      "\n",
      "A.T * A:\n",
      "[[2 3]\n",
      " [3 5]]\n",
      "A * A.T != I, значит матрица не симметричная\n"
     ]
    }
   ],
   "source": [
    "A = np.array([[1, 1], [1, 2]])\n",
    "print 'Матрица A:\\n', A\n",
    "print ''\n",
    "# Проверка матрицы на симметрию A = A transposed?\n",
    "print 'Транспонированная матрица A:\\n', A.T, '\\n'\n",
    "\n",
    "# Проверка матрицы на ортогональность: A * A.T = A.T * A = I\n",
    "print 'A * A.T:\\n', np.dot(A, A.T), '\\n'\n",
    "print 'A.T * A:\\n', np.dot(A.T, A), '\\n'\n",
    "print 'A * A.T != I, значит матрица не симметричная'"
   ]
  },
  {
   "cell_type": "markdown",
   "metadata": {},
   "source": [
    "Значит данная матрица A **симметричная**"
   ]
  },
  {
   "cell_type": "markdown",
   "metadata": {},
   "source": [
    "#### 5. Какое из следующих утверждений правильно характеризует собственные векторы?\n",
    "\n",
    "\n",
    "**Собственный вектор матрицы задает направление, вдоль которого соответствующее линейное преобразование действует как сжатие или растяжение**\n",
    "\n",
    "Собственный вектор матрицы задает направление, вдоль которого соответствующее линейное преобразование не меняет длины векторов\n",
    "\n",
    "Собственный вектор матрицы задает направление, вдоль которого соответствующее линейное преобразование действует только как тождественное\n",
    "\n",
    "Собственный вектор матрицы задает направление, вдоль которого соответствующее линейное преобразование действует как вращение"
   ]
  },
  {
   "cell_type": "markdown",
   "metadata": {},
   "source": [
    "#### 6. Какие из нижеприведенных команд корректно отработают и создадут двумерный массив?"
   ]
  },
  {
   "cell_type": "markdown",
   "metadata": {},
   "source": [
    "**d = np.ones((10, 10))**\n",
    "\n",
    "c = np.eye((4, 5))\n",
    "\n",
    "a = np.array([4, 3, 2], [2, 9, 1], [3, 1, 9])\n",
    "\n",
    "**b = np.eye(2, 3)**\n",
    "\n",
    "**e = np.arange(1, 13, 2).reshape((3, 2))**"
   ]
  },
  {
   "cell_type": "code",
   "execution_count": 36,
   "metadata": {
    "collapsed": false
   },
   "outputs": [
    {
     "name": "stdout",
     "output_type": "stream",
     "text": [
      "[[ 1.  1.  1.  1.  1.  1.  1.  1.  1.  1.]\n",
      " [ 1.  1.  1.  1.  1.  1.  1.  1.  1.  1.]\n",
      " [ 1.  1.  1.  1.  1.  1.  1.  1.  1.  1.]\n",
      " [ 1.  1.  1.  1.  1.  1.  1.  1.  1.  1.]\n",
      " [ 1.  1.  1.  1.  1.  1.  1.  1.  1.  1.]\n",
      " [ 1.  1.  1.  1.  1.  1.  1.  1.  1.  1.]\n",
      " [ 1.  1.  1.  1.  1.  1.  1.  1.  1.  1.]\n",
      " [ 1.  1.  1.  1.  1.  1.  1.  1.  1.  1.]\n",
      " [ 1.  1.  1.  1.  1.  1.  1.  1.  1.  1.]\n",
      " [ 1.  1.  1.  1.  1.  1.  1.  1.  1.  1.]]\n"
     ]
    }
   ],
   "source": [
    "d = np.ones((10, 10))\n",
    "print d"
   ]
  },
  {
   "cell_type": "code",
   "execution_count": 37,
   "metadata": {
    "collapsed": false
   },
   "outputs": [
    {
     "ename": "TypeError",
     "evalue": "an integer is required",
     "output_type": "error",
     "traceback": [
      "\u001b[0;31m---------------------------------------------------------------------------\u001b[0m",
      "\u001b[0;31mTypeError\u001b[0m                                 Traceback (most recent call last)",
      "\u001b[0;32m<ipython-input-37-12983ad21a97>\u001b[0m in \u001b[0;36m<module>\u001b[0;34m()\u001b[0m\n\u001b[0;32m----> 1\u001b[0;31m \u001b[0mc\u001b[0m \u001b[0;34m=\u001b[0m \u001b[0mnp\u001b[0m\u001b[0;34m.\u001b[0m\u001b[0meye\u001b[0m\u001b[0;34m(\u001b[0m\u001b[0;34m(\u001b[0m\u001b[0;36m4\u001b[0m\u001b[0;34m,\u001b[0m \u001b[0;36m5\u001b[0m\u001b[0;34m)\u001b[0m\u001b[0;34m)\u001b[0m\u001b[0;34m\u001b[0m\u001b[0m\n\u001b[0m\u001b[1;32m      2\u001b[0m \u001b[0;32mprint\u001b[0m \u001b[0mc\u001b[0m\u001b[0;34m\u001b[0m\u001b[0m\n",
      "\u001b[0;32m/home/osboxes/anaconda2/lib/python2.7/site-packages/numpy/lib/twodim_base.pyc\u001b[0m in \u001b[0;36meye\u001b[0;34m(N, M, k, dtype)\u001b[0m\n\u001b[1;32m    231\u001b[0m     \u001b[0;32mif\u001b[0m \u001b[0mM\u001b[0m \u001b[0;32mis\u001b[0m \u001b[0mNone\u001b[0m\u001b[0;34m:\u001b[0m\u001b[0;34m\u001b[0m\u001b[0m\n\u001b[1;32m    232\u001b[0m         \u001b[0mM\u001b[0m \u001b[0;34m=\u001b[0m \u001b[0mN\u001b[0m\u001b[0;34m\u001b[0m\u001b[0m\n\u001b[0;32m--> 233\u001b[0;31m     \u001b[0mm\u001b[0m \u001b[0;34m=\u001b[0m \u001b[0mzeros\u001b[0m\u001b[0;34m(\u001b[0m\u001b[0;34m(\u001b[0m\u001b[0mN\u001b[0m\u001b[0;34m,\u001b[0m \u001b[0mM\u001b[0m\u001b[0;34m)\u001b[0m\u001b[0;34m,\u001b[0m \u001b[0mdtype\u001b[0m\u001b[0;34m=\u001b[0m\u001b[0mdtype\u001b[0m\u001b[0;34m)\u001b[0m\u001b[0;34m\u001b[0m\u001b[0m\n\u001b[0m\u001b[1;32m    234\u001b[0m     \u001b[0;32mif\u001b[0m \u001b[0mk\u001b[0m \u001b[0;34m>=\u001b[0m \u001b[0mM\u001b[0m\u001b[0;34m:\u001b[0m\u001b[0;34m\u001b[0m\u001b[0m\n\u001b[1;32m    235\u001b[0m         \u001b[0;32mreturn\u001b[0m \u001b[0mm\u001b[0m\u001b[0;34m\u001b[0m\u001b[0m\n",
      "\u001b[0;31mTypeError\u001b[0m: an integer is required"
     ]
    }
   ],
   "source": [
    "c = np.eye((4, 5))\n",
    "print c"
   ]
  },
  {
   "cell_type": "code",
   "execution_count": 39,
   "metadata": {
    "collapsed": false
   },
   "outputs": [
    {
     "ename": "ValueError",
     "evalue": "only 2 non-keyword arguments accepted",
     "output_type": "error",
     "traceback": [
      "\u001b[0;31m---------------------------------------------------------------------------\u001b[0m",
      "\u001b[0;31mValueError\u001b[0m                                Traceback (most recent call last)",
      "\u001b[0;32m<ipython-input-39-8d33fc1d7262>\u001b[0m in \u001b[0;36m<module>\u001b[0;34m()\u001b[0m\n\u001b[0;32m----> 1\u001b[0;31m \u001b[0ma\u001b[0m \u001b[0;34m=\u001b[0m \u001b[0mnp\u001b[0m\u001b[0;34m.\u001b[0m\u001b[0marray\u001b[0m\u001b[0;34m(\u001b[0m\u001b[0;34m[\u001b[0m\u001b[0;36m4\u001b[0m\u001b[0;34m,\u001b[0m \u001b[0;36m3\u001b[0m\u001b[0;34m,\u001b[0m \u001b[0;36m2\u001b[0m\u001b[0;34m]\u001b[0m\u001b[0;34m,\u001b[0m \u001b[0;34m[\u001b[0m\u001b[0;36m2\u001b[0m\u001b[0;34m,\u001b[0m \u001b[0;36m9\u001b[0m\u001b[0;34m,\u001b[0m \u001b[0;36m1\u001b[0m\u001b[0;34m]\u001b[0m\u001b[0;34m,\u001b[0m \u001b[0;34m[\u001b[0m\u001b[0;36m3\u001b[0m\u001b[0;34m,\u001b[0m \u001b[0;36m1\u001b[0m\u001b[0;34m,\u001b[0m \u001b[0;36m9\u001b[0m\u001b[0;34m]\u001b[0m\u001b[0;34m)\u001b[0m\u001b[0;34m\u001b[0m\u001b[0m\n\u001b[0m\u001b[1;32m      2\u001b[0m \u001b[0;32mprint\u001b[0m \u001b[0ma\u001b[0m\u001b[0;34m\u001b[0m\u001b[0m\n",
      "\u001b[0;31mValueError\u001b[0m: only 2 non-keyword arguments accepted"
     ]
    }
   ],
   "source": [
    "a = np.array([4, 3, 2], [2, 9, 1], [3, 1, 9])\n",
    "print a"
   ]
  },
  {
   "cell_type": "code",
   "execution_count": 40,
   "metadata": {
    "collapsed": false
   },
   "outputs": [
    {
     "name": "stdout",
     "output_type": "stream",
     "text": [
      "[[ 1.  0.  0.]\n",
      " [ 0.  1.  0.]]\n"
     ]
    }
   ],
   "source": [
    "b = np.eye(2, 3)\n",
    "print b"
   ]
  },
  {
   "cell_type": "code",
   "execution_count": 42,
   "metadata": {
    "collapsed": false
   },
   "outputs": [
    {
     "name": "stdout",
     "output_type": "stream",
     "text": [
      "[[ 1  3]\n",
      " [ 5  7]\n",
      " [ 9 11]]\n"
     ]
    }
   ],
   "source": [
    "e = np.arange(1, 13, 2).reshape((3, 2))\n",
    "print e"
   ]
  },
  {
   "cell_type": "markdown",
   "metadata": {},
   "source": [
    "#### 7. Пусть создан массив с помощью команды a = np.eye(4, 5). Что вернет операция a[[0, 3], [1, 3]]?\n",
    "\n",
    "Два числа: 0 и 0.\n",
    "\n",
    "Одномерный массив с числами 0 и 0.\n",
    "\n",
    "**Два числа: 0 и 1.**\n",
    "\n",
    "Одномерный массив с числами 0 и 1."
   ]
  },
  {
   "cell_type": "code",
   "execution_count": 45,
   "metadata": {
    "collapsed": false
   },
   "outputs": [
    {
     "name": "stdout",
     "output_type": "stream",
     "text": [
      "[[ 1.  0.  0.  0.  0.]\n",
      " [ 0.  1.  0.  0.  0.]\n",
      " [ 0.  0.  1.  0.  0.]\n",
      " [ 0.  0.  0.  1.  0.]]\n",
      "\n",
      "[ 0.  1.]\n"
     ]
    }
   ],
   "source": [
    "a = np.eye(4, 5)\n",
    "print a\n",
    "print '\\n', a[[0,3], [1, 3]] # Число 1: 1ая строка, 2ой столбец.\n",
    "                             # Число 2: 4ая строка, 4ый столбец."
   ]
  },
  {
   "cell_type": "markdown",
   "metadata": {},
   "source": [
    "#### 8. С помощью каких из нижеприведенных функций библиотеки numpy можно вычислить определитель матрицы?\n",
    "\n",
    "np.transpose(...)\n",
    "\n",
    "**np.linalg.det(...)**\n",
    "\n",
    "np.det(...)\n",
    "\n",
    "np.linalg.inv(...)\n",
    "\n",
    "np.inv(...)"
   ]
  },
  {
   "cell_type": "markdown",
   "metadata": {},
   "source": [
    "#### 9. С помощью каких из нижеприведенных функций библиотеки numpy можно вычислить собственные числа и собственные векторы матрицы?\n",
    "\n",
    "**np.linalg.eig(...)**\n",
    "\n",
    "np.linalg.solve(...)\n",
    "\n",
    "np.linalg.matrix_rank(...)\n",
    "\n",
    "np.eig(...)\n",
    "\n",
    "np.solve(...)"
   ]
  }
 ],
 "metadata": {
  "kernelspec": {
   "display_name": "Python 2",
   "language": "python",
   "name": "python2"
  },
  "language_info": {
   "codemirror_mode": {
    "name": "ipython",
    "version": 2
   },
   "file_extension": ".py",
   "mimetype": "text/x-python",
   "name": "python",
   "nbconvert_exporter": "python",
   "pygments_lexer": "ipython2",
   "version": "2.7.13"
  }
 },
 "nbformat": 4,
 "nbformat_minor": 2
}
