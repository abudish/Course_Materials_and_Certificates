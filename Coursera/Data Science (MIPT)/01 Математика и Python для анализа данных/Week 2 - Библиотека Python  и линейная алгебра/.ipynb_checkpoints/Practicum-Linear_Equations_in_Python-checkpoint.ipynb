{
 "cells": [
  {
   "cell_type": "markdown",
   "metadata": {},
   "source": [
    "# Задача 1.1 - система 2 линейных уравнений"
   ]
  },
  {
   "cell_type": "markdown",
   "metadata": {},
   "source": [
    "Напишите программу, которая будет решать систему линейных уравнений вида:\n",
    "$$\n",
    "\\left\\{\\begin{matrix} a_{11}x+a_{12}y=b_{1}&(1) \\\\  a_{21}x+a_{22}y=b_{2} &(2) \\end{matrix}\\right.\n",
    "$$\n",
    "На вход программа должна принимать 2 строки (используйте стандартную функцию input() Python 3).\n",
    "\n",
    "Каждая строка содержит 3 действительных числа через пробел:\n",
    "\n",
    "ai1,ai2,bi,ai1,ai2,bi, \n",
    "\n",
    "где i - номер строки\n",
    "\n",
    "На выходе программа должна выдавать значения x и y в одну строку через пробел.\n",
    "\n",
    "\n",
    "\n",
    "**Примечание 1.** В для разделения строки на отдельные элементы используйте функцию split()\n",
    "\n",
    "**Примечание 2.** В качестве разделителя между целой и дробной частью используйте точку, например 0.2\n",
    "\n",
    "---\n",
    "**Sample Input 1:**  \n",
    "2 5 1  \n",
    "1 -10 3\n",
    "\n",
    "---\n",
    "**Sample Output 1:**  \n",
    "1.0 -0.2\n",
    "\n",
    "---\n",
    "\n",
    "**Sample Input 2:**  \n",
    "1 0 1  \n",
    "0 1 -1\n",
    "\n",
    "---\n",
    "**Sample Output 2:**  \n",
    "1.0 -1.0"
   ]
  },
  {
   "cell_type": "code",
   "execution_count": 34,
   "metadata": {
    "collapsed": false
   },
   "outputs": [
    {
     "name": "stdout",
     "output_type": "stream",
     "text": [
      "2 5 1\n",
      "1 -10 3\n",
      "1.0 -0.2\n"
     ]
    }
   ],
   "source": [
    "import numpy\n",
    "a11, a12, b1 = list(map(float, raw_input().split())) # в 3м питоне надо использовать просто input\n",
    "a21, a22, b2 = list(map(float,raw_input().split()))\n",
    "\n",
    "M1 = numpy.array([[a11, a12], [a21, a22]]) # Матрица (левая часть системы)\n",
    "v1 = numpy.array([b1, b2]) # Вектор (правая часть системы)\n",
    "r = numpy.linalg.solve(M1, v1) #Находим решение системы\n",
    "print r[0], r[1]"
   ]
  },
  {
   "cell_type": "code",
   "execution_count": 33,
   "metadata": {
    "collapsed": false
   },
   "outputs": [
    {
     "name": "stdout",
     "output_type": "stream",
     "text": [
      "[ 1.  -0.2]\n"
     ]
    }
   ],
   "source": [
    "print r"
   ]
  },
  {
   "cell_type": "code",
   "execution_count": 27,
   "metadata": {
    "collapsed": false
   },
   "outputs": [
    {
     "name": "stdout",
     "output_type": "stream",
     "text": [
      "(1.0, -0.20000000000000001)\n"
     ]
    }
   ],
   "source": []
  }
 ],
 "metadata": {
  "kernelspec": {
   "display_name": "Python 2",
   "language": "python",
   "name": "python2"
  },
  "language_info": {
   "codemirror_mode": {
    "name": "ipython",
    "version": 2
   },
   "file_extension": ".py",
   "mimetype": "text/x-python",
   "name": "python",
   "nbconvert_exporter": "python",
   "pygments_lexer": "ipython2",
   "version": "2.7.13"
  }
 },
 "nbformat": 4,
 "nbformat_minor": 2
}
