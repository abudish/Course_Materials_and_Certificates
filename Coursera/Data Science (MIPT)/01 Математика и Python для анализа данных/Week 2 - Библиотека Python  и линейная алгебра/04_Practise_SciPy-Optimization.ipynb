{
 "cells": [
  {
   "cell_type": "markdown",
   "metadata": {},
   "source": [
    "## Решение оптимизационных задач в SciPy"
   ]
  },
  {
   "cell_type": "code",
   "execution_count": 1,
   "metadata": {
    "collapsed": true
   },
   "outputs": [],
   "source": [
    "from scipy import optimize"
   ]
  },
  {
   "cell_type": "code",
   "execution_count": 2,
   "metadata": {
    "collapsed": false
   },
   "outputs": [
    {
     "name": "stdout",
     "output_type": "stream",
     "text": [
      "0.0\n"
     ]
    }
   ],
   "source": [
    "def f(x):    # The Rosenbrock function\n",
    "    return .5*(1 -x[0])**2 + (x[1] - x[0]**2)**2\n",
    "\n",
    "print f([1, 1])"
   ]
  },
  {
   "cell_type": "code",
   "execution_count": 3,
   "metadata": {
    "collapsed": false
   },
   "outputs": [
    {
     "name": "stdout",
     "output_type": "stream",
     "text": [
      "[ 0.99999324  1.00001283]\n"
     ]
    }
   ],
   "source": [
    "result = optimize.brute(f, ((-5, 5), (-5, 5)))\n",
    "print result"
   ]
  },
  {
   "cell_type": "code",
   "execution_count": 4,
   "metadata": {
    "collapsed": false
   },
   "outputs": [
    {
     "name": "stdout",
     "output_type": "stream",
     "text": [
      "     fun: 1.4544324910625457e-19\n",
      " message: 'Optimization terminated successfully.'\n",
      "    nfev: 2133\n",
      "     nit: 70\n",
      " success: True\n",
      "       x: array([ 1.,  1.])\n"
     ]
    }
   ],
   "source": [
    "print optimize.differential_evolution(f, ((-5, 5), (-5, 5)))"
   ]
  },
  {
   "cell_type": "code",
   "execution_count": 6,
   "metadata": {
    "collapsed": true
   },
   "outputs": [],
   "source": [
    "import numpy as np\n",
    "def g(x):\n",
    "    return np.array((-2*.5*(1 - x[0]) - 4*x[0]*(x[1] - x[0]**2), 2*(x[1] - x[0]**2)))"
   ]
  },
  {
   "cell_type": "code",
   "execution_count": 7,
   "metadata": {
    "collapsed": false
   },
   "outputs": [
    {
     "name": "stdout",
     "output_type": "stream",
     "text": [
      "2.38418579102e-07\n"
     ]
    }
   ],
   "source": [
    "print optimize.check_grad(f, g, [2, 2])"
   ]
  },
  {
   "cell_type": "code",
   "execution_count": 8,
   "metadata": {
    "collapsed": false
   },
   "outputs": [
    {
     "name": "stdout",
     "output_type": "stream",
     "text": [
      "Optimization terminated successfully.\n",
      "         Current function value: 0.000000\n",
      "         Iterations: 8\n",
      "         Function evaluations: 9\n",
      "         Gradient evaluations: 9\n",
      "[ 1.00000582  1.00001285]\n"
     ]
    }
   ],
   "source": [
    "print optimize.fmin_bfgs(f, [2, 2], fprime=g)"
   ]
  },
  {
   "cell_type": "code",
   "execution_count": 9,
   "metadata": {
    "collapsed": false
   },
   "outputs": [
    {
     "name": "stdout",
     "output_type": "stream",
     "text": [
      "      fun: 1.78380307372662e-11\n",
      " hess_inv: array([[ 0.95489061,  1.90006631],\n",
      "       [ 1.90006631,  4.27872379]])\n",
      "      jac: array([  9.88094725e-07,   2.41748897e-06])\n",
      "  message: 'Optimization terminated successfully.'\n",
      "     nfev: 36\n",
      "      nit: 8\n",
      "     njev: 9\n",
      "   status: 0\n",
      "  success: True\n",
      "        x: array([ 1.00000573,  1.00001265])\n"
     ]
    }
   ],
   "source": [
    "print optimize.minimize(f, [2, 2])"
   ]
  },
  {
   "cell_type": "code",
   "execution_count": 10,
   "metadata": {
    "collapsed": false
   },
   "outputs": [
    {
     "name": "stdout",
     "output_type": "stream",
     "text": [
      "      fun: 1.8414093407262628e-11\n",
      " hess_inv: array([[ 0.95489113,  1.90006768],\n",
      "       [ 1.90006768,  4.27872719]])\n",
      "      jac: array([  9.88085521e-07,   2.41739812e-06])\n",
      "  message: 'Optimization terminated successfully.'\n",
      "     nfev: 9\n",
      "      nit: 8\n",
      "     njev: 9\n",
      "   status: 0\n",
      "  success: True\n",
      "        x: array([ 1.00000582,  1.00001285])\n"
     ]
    }
   ],
   "source": [
    "print optimize.minimize(f, [2, 2], method='BFGS', jac=g)"
   ]
  },
  {
   "cell_type": "code",
   "execution_count": 11,
   "metadata": {
    "collapsed": false
   },
   "outputs": [
    {
     "name": "stdout",
     "output_type": "stream",
     "text": [
      " final_simplex: (array([[ 0.99998568,  0.99996682],\n",
      "       [ 1.00002149,  1.00004744],\n",
      "       [ 1.0000088 ,  1.00003552]]), array([  1.23119954e-10,   2.50768082e-10,   3.59639951e-10]))\n",
      "           fun: 1.2311995365407462e-10\n",
      "       message: 'Optimization terminated successfully.'\n",
      "          nfev: 91\n",
      "           nit: 46\n",
      "        status: 0\n",
      "       success: True\n",
      "             x: array([ 0.99998568,  0.99996682])\n"
     ]
    }
   ],
   "source": [
    "print optimize.minimize(f, [2, 2], method='Nelder-Mead')"
   ]
  },
  {
   "cell_type": "markdown",
   "metadata": {},
   "source": [
    "<br>"
   ]
  },
  {
   "cell_type": "markdown",
   "metadata": {},
   "source": [
    "Как с помощью модуля **optimize** библиотеки **scipy** можно найти максимум функции **f(x,y)**?"
   ]
  },
  {
   "cell_type": "markdown",
   "metadata": {},
   "source": [
    "Ответ: Максимизация функции *f(x)* эквивалентна минимизации функции *-f(x)*. А чтобы получить *-f(x)* нужно написать следующую обертку:"
   ]
  },
  {
   "cell_type": "code",
   "execution_count": null,
   "metadata": {
    "collapsed": true
   },
   "outputs": [],
   "source": [
    "def u(x, y):\n",
    "  return -f(x, y)\n",
    "\n",
    "optimize.minimize(u, [1, 1])"
   ]
  },
  {
   "cell_type": "markdown",
   "metadata": {},
   "source": [
    "<br>"
   ]
  },
  {
   "cell_type": "code",
   "execution_count": null,
   "metadata": {
    "collapsed": true
   },
   "outputs": [],
   "source": []
  }
 ],
 "metadata": {
  "kernelspec": {
   "display_name": "Python 2",
   "language": "python",
   "name": "python2"
  },
  "language_info": {
   "codemirror_mode": {
    "name": "ipython",
    "version": 2
   },
   "file_extension": ".py",
   "mimetype": "text/x-python",
   "name": "python",
   "nbconvert_exporter": "python",
   "pygments_lexer": "ipython2",
   "version": "2.7.13"
  }
 },
 "nbformat": 4,
 "nbformat_minor": 2
}
