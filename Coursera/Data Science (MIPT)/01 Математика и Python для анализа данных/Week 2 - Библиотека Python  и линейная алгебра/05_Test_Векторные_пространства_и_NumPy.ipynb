{
 "cells": [
  {
   "cell_type": "markdown",
   "metadata": {},
   "source": [
    "#### 1. Выберите те наборы векторов, которые являются линейно независимыми (один вектор тоже считается набором)."
   ]
  },
  {
   "cell_type": "markdown",
   "metadata": {},
   "source": [
    "**(1,0),(1,1)** Нельзя сложить эти два вектора с ненулевыми коэффициентами и получить нулевой вектор.\n",
    "\n",
    "**(1,0)** Набор из одного вектора всегда является линейно независимым (кроме случая, когда это нулевой вектор).\n",
    "\n",
    "**(1,0),(0,1)** Нельзя сложить эти два вектора с ненулевыми коэффициентами и получить нулевой вектор.\n",
    "\n",
    "(1,0),(0,1),(−1,1)"
   ]
  },
  {
   "cell_type": "markdown",
   "metadata": {},
   "source": [
    "#### 2. Чему равна манхэттенская норма вектора a=(−1,2,−1)?"
   ]
  },
  {
   "cell_type": "markdown",
   "metadata": {},
   "source": [
    "$$\n",
    " \\left\\Vert a \\right\\Vert_{1} = \\sum_{i=1}^n \\left| a_{i} \\right| = \\left| -1 \\right| + \\left| 2 \\right| + \\left| -1 \\right| = 4\n",
    "$$"
   ]
  },
  {
   "cell_type": "markdown",
   "metadata": {},
   "source": [
    "#### 3. Чему равно скалярное произведение векторов a=(1,2,3) и b=(−3,1,1)?"
   ]
  },
  {
   "cell_type": "markdown",
   "metadata": {},
   "source": [
    "$$\n",
    "\\langle a, b \\rangle = \\sum_{i=1}^n a_{i} b_{i}.\n",
    " = 1*(-3) + 2*1 + 3*1 = -3 +2 +3 = 2\n",
    "$$"
   ]
  },
  {
   "cell_type": "code",
   "execution_count": 28,
   "metadata": {
    "collapsed": false
   },
   "outputs": [
    {
     "name": "stdout",
     "output_type": "stream",
     "text": [
      "[1 2 3] [-3  1  1]\n"
     ]
    },
    {
     "data": {
      "text/plain": [
       "2"
      ]
     },
     "execution_count": 28,
     "metadata": {},
     "output_type": "execute_result"
    }
   ],
   "source": [
    "import numpy\n",
    "a = numpy.array([1, 2, 3])\n",
    "b = numpy.array([-3, 1, 1])\n",
    "print a, b\n",
    "a.dot(b)\n"
   ]
  },
  {
   "cell_type": "markdown",
   "metadata": {},
   "source": [
    "#### 4. В пространствах какой размерности можно выбрать k линейно независимых векторов?"
   ]
  },
  {
   "cell_type": "markdown",
   "metadata": {},
   "source": [
    "k - 1  \n",
    "**k + 1**  \n",
    "**k**  \n",
    "\n",
    "Объяснение: Максимальное число линейно независимых векторов в линейном\n",
    "пространстве V назывется размерностью и равно $ dim\\mathbb{R}^n = n$.\n",
    "Значит если мы подставим k, то только в пространствах с размерностью >= k мы сможем выбрать k линейно независимых векторов."
   ]
  },
  {
   "cell_type": "markdown",
   "metadata": {},
   "source": [
    "#### 5. Какие из нижеприведенных команд корректно отработают и создадут вектор?\n",
    "\n",
    "**f = numpy.arange(1, 2, 0.3, dtype=float)**\n",
    "\n",
    "**b = numpy.array([1, 2, 3, 4, 5], dtype=float)**\n",
    "\n",
    "**c = numpy.array([False, False, True])**\n",
    "\n",
    "b = numpy.array(1, 2, 3, 4, 5, dtype=float)"
   ]
  },
  {
   "cell_type": "markdown",
   "metadata": {},
   "source": [
    "#### 6. Пусть даны два вектора a = numpy.array([6, 3, -5]) и b = numpy.array([-1, 0, 7]). Какая из следующих команд считает евклидово расстояние между этими векторами?\n",
    "\n",
    "**scipy.spatial.distance.cdist(a[numpy.newaxis, :], b[numpy.newaxis, :], metric='euclidean')**\n",
    "\n",
    "numpy.linalg.norm(a, ord=2) - np.linalg.norm(b, ord=2)\n",
    "\n",
    "scipy.spatial.distance.cdist(a[:, numpy.newaxis], b[:, numpy.newaxis], metric='euclidean')\n",
    "\n",
    "scipy.spatial.distance.cdist(b, a, metric='euclidean')"
   ]
  },
  {
   "cell_type": "code",
   "execution_count": 11,
   "metadata": {
    "collapsed": false
   },
   "outputs": [],
   "source": [
    "import scipy.spatial.distance"
   ]
  },
  {
   "cell_type": "code",
   "execution_count": 29,
   "metadata": {
    "collapsed": false
   },
   "outputs": [
    {
     "name": "stdout",
     "output_type": "stream",
     "text": [
      "[ 6  3 -5] [-1  0  7]\n",
      "(3,) (3,)\n",
      "[[ 6  3 -5]] [[-1  0  7]]\n",
      "(1, 3) (1, 3)\n"
     ]
    }
   ],
   "source": [
    "a = numpy.array([6, 3, -5])\n",
    "b = numpy.array([-1, 0, 7])\n",
    "print a, b\n",
    "print a.shape, b.shape\n",
    "print a[numpy.newaxis, :], b[numpy.newaxis, :]\n",
    "print a[numpy.newaxis, :].shape, b[numpy.newaxis, :].shape"
   ]
  },
  {
   "cell_type": "code",
   "execution_count": 12,
   "metadata": {
    "collapsed": false
   },
   "outputs": [
    {
     "data": {
      "text/plain": [
       "array([[ 14.2126704]])"
      ]
     },
     "execution_count": 12,
     "metadata": {},
     "output_type": "execute_result"
    }
   ],
   "source": [
    "scipy.spatial.distance.cdist(a[numpy.newaxis, :], b[numpy.newaxis, :], metric='euclidean')"
   ]
  },
  {
   "cell_type": "markdown",
   "metadata": {},
   "source": [
    "#### 7. Пусть даны два вектора a = numpy.array([0, -1, 11]) и b = numpy.array([3, 7, 2]). Какие из следующих команд считают скалярное произведение этих векторов?"
   ]
  },
  {
   "cell_type": "markdown",
   "metadata": {},
   "source": [
    "**numpy.dot(a, b)**\n",
    "\n",
    "**b.dot(a)**\n",
    "\n",
    "numpy.dot(a, b) / numpy.linalg.norm(a) / numpy.linalg.norm(b) - это формула используется для расчета угла между a и b\n",
    "\n",
    "a * b"
   ]
  },
  {
   "cell_type": "markdown",
   "metadata": {},
   "source": [
    "#### 8. Пусть дан вектор a = numpy.array([8, 10, -1, 0, 0]). Какие из следующих команд преобразуют вектор a к вектор-столбцу?"
   ]
  },
  {
   "cell_type": "markdown",
   "metadata": {},
   "source": [
    "**a = a.reshape((5, 1))**\n",
    "\n",
    "a = a.reshape((1, 5))\n",
    "\n",
    "**a = a[:, numpy.newaxis]**\n",
    "\n",
    "a = a[numpy.newaxis, :]"
   ]
  },
  {
   "cell_type": "code",
   "execution_count": 25,
   "metadata": {
    "collapsed": false
   },
   "outputs": [
    {
     "name": "stdout",
     "output_type": "stream",
     "text": [
      "[ 8 10 -1  0  0]\n"
     ]
    },
    {
     "data": {
      "text/plain": [
       "(5,)"
      ]
     },
     "execution_count": 25,
     "metadata": {},
     "output_type": "execute_result"
    }
   ],
   "source": [
    "a = numpy.array([8, 10, -1, 0, 0])\n",
    "print a\n",
    "a.shape"
   ]
  },
  {
   "cell_type": "code",
   "execution_count": 27,
   "metadata": {
    "collapsed": false
   },
   "outputs": [
    {
     "data": {
      "text/plain": [
       "array([[ 8],\n",
       "       [10],\n",
       "       [-1],\n",
       "       [ 0],\n",
       "       [ 0]])"
      ]
     },
     "execution_count": 27,
     "metadata": {},
     "output_type": "execute_result"
    }
   ],
   "source": [
    "a.reshape((5, 1))"
   ]
  },
  {
   "cell_type": "code",
   "execution_count": 18,
   "metadata": {
    "collapsed": false
   },
   "outputs": [
    {
     "data": {
      "text/plain": [
       "array([[ 8, 10, -1,  0,  0]])"
      ]
     },
     "execution_count": 18,
     "metadata": {},
     "output_type": "execute_result"
    }
   ],
   "source": [
    "a.reshape((1, 5))"
   ]
  },
  {
   "cell_type": "code",
   "execution_count": 21,
   "metadata": {
    "collapsed": false
   },
   "outputs": [
    {
     "data": {
      "text/plain": [
       "array([[ 8],\n",
       "       [10],\n",
       "       [-1],\n",
       "       [ 0],\n",
       "       [ 0]])"
      ]
     },
     "execution_count": 21,
     "metadata": {},
     "output_type": "execute_result"
    }
   ],
   "source": [
    "a[:, numpy.newaxis]"
   ]
  },
  {
   "cell_type": "code",
   "execution_count": 22,
   "metadata": {
    "collapsed": false
   },
   "outputs": [
    {
     "data": {
      "text/plain": [
       "array([[ 8, 10, -1,  0,  0]])"
      ]
     },
     "execution_count": 22,
     "metadata": {},
     "output_type": "execute_result"
    }
   ],
   "source": [
    "a[numpy.newaxis, :]"
   ]
  },
  {
   "cell_type": "code",
   "execution_count": null,
   "metadata": {
    "collapsed": true
   },
   "outputs": [],
   "source": []
  }
 ],
 "metadata": {
  "kernelspec": {
   "display_name": "Python 2",
   "language": "python",
   "name": "python2"
  },
  "language_info": {
   "codemirror_mode": {
    "name": "ipython",
    "version": 2
   },
   "file_extension": ".py",
   "mimetype": "text/x-python",
   "name": "python",
   "nbconvert_exporter": "python",
   "pygments_lexer": "ipython2",
   "version": "2.7.13"
  }
 },
 "nbformat": 4,
 "nbformat_minor": 2
}
